{
  "metadata": {
    "kernelspec": {
      "language": "python",
      "display_name": "Python 3",
      "name": "python3"
    },
    "language_info": {
      "name": "python",
      "version": "3.10.12",
      "mimetype": "text/x-python",
      "codemirror_mode": {
        "name": "ipython",
        "version": 3
      },
      "pygments_lexer": "ipython3",
      "nbconvert_exporter": "python",
      "file_extension": ".py"
    },
    "kaggle": {
      "accelerator": "none",
      "dataSources": [
        {
          "sourceId": 10771257,
          "sourceType": "datasetVersion",
          "datasetId": 6680702
        },
        {
          "sourceId": 10772215,
          "sourceType": "datasetVersion",
          "datasetId": 6681050
        },
        {
          "sourceId": 10772431,
          "sourceType": "datasetVersion",
          "datasetId": 6681482
        }
      ],
      "dockerImageVersionId": 30918,
      "isInternetEnabled": true,
      "language": "python",
      "sourceType": "notebook",
      "isGpuEnabled": false
    },
    "colab": {
      "name": "Fix Praproses_Alpha_FreeA",
      "provenance": [],
      "include_colab_link": true
    }
  },
  "nbformat_minor": 0,
  "nbformat": 4,
  "cells": [
    {
      "cell_type": "markdown",
      "metadata": {
        "id": "view-in-github",
        "colab_type": "text"
      },
      "source": [
        "<a href=\"https://colab.research.google.com/github/Maharaniputrie/FinPro_Karir.mu/blob/main/Fix_Praproses_Alpha_FreeA.ipynb\" target=\"_parent\"><img src=\"https://colab.research.google.com/assets/colab-badge.svg\" alt=\"Open In Colab\"/></a>"
      ]
    },
    {
      "source": [
        "# IMPORTANT: SOME KAGGLE DATA SOURCES ARE PRIVATE\n",
        "# RUN THIS CELL IN ORDER TO IMPORT YOUR KAGGLE DATA SOURCES.\n",
        "import kagglehub\n",
        "kagglehub.login()\n"
      ],
      "metadata": {
        "id": "dKzqMmmuAqyQ"
      },
      "cell_type": "code",
      "outputs": [],
      "execution_count": null
    },
    {
      "source": [
        "# IMPORTANT: RUN THIS CELL IN ORDER TO IMPORT YOUR KAGGLE DATA SOURCES,\n",
        "# THEN FEEL FREE TO DELETE THIS CELL.\n",
        "# NOTE: THIS NOTEBOOK ENVIRONMENT DIFFERS FROM KAGGLE'S PYTHON\n",
        "# ENVIRONMENT SO THERE MAY BE MISSING LIBRARIES USED BY YOUR\n",
        "# NOTEBOOK.\n",
        "\n",
        "inarhehehe_sensor_3863_path = kagglehub.dataset_download('inarhehehe/sensor-3863')\n",
        "inarhehehe_sensor_3865_path = kagglehub.dataset_download('inarhehehe/sensor-3865')\n",
        "inarhehehe_sensor_3867_path = kagglehub.dataset_download('inarhehehe/sensor-3867')\n",
        "\n",
        "print('Data source import complete.')\n"
      ],
      "metadata": {
        "id": "04J1_FuPAqyS"
      },
      "cell_type": "code",
      "outputs": [],
      "execution_count": null
    },
    {
      "cell_type": "markdown",
      "source": [
        "# Praproses Data\n",
        "1. Formatting Data\n",
        "2. Duplikat\n",
        "3. Null\n",
        "4. merging interpolated + value_tag\n",
        "5. Outlier\n",
        "6. cek time_stamp yang hilang"
      ],
      "metadata": {
        "_uuid": "8f2839f25d086af736a60e9eeb907d3b93b6e0e5",
        "_cell_guid": "b1076dfc-b9ad-4769-8c92-a6c4dae69d19",
        "id": "CDLzyFoNAqyT"
      }
    },
    {
      "cell_type": "code",
      "source": [
        "import pandas as pd\n",
        "!pip install nolds\n",
        "import nolds\n",
        "import matplotlib.pyplot as plt"
      ],
      "metadata": {
        "trusted": true,
        "execution": {
          "iopub.status.busy": "2025-02-23T13:23:14.659995Z",
          "iopub.execute_input": "2025-02-23T13:23:14.660394Z",
          "iopub.status.idle": "2025-02-23T13:23:19.569017Z",
          "shell.execute_reply.started": "2025-02-23T13:23:14.660365Z",
          "shell.execute_reply": "2025-02-23T13:23:19.567374Z"
        },
        "id": "diP7XdmjAqyV",
        "outputId": "5ddc8c0b-168c-4a7f-ccd5-c9db34e2f5a6"
      },
      "outputs": [
        {
          "name": "stdout",
          "text": "Requirement already satisfied: nolds in /usr/local/lib/python3.10/dist-packages (0.6.1)\nRequirement already satisfied: numpy<3.0,>1.0 in /usr/local/lib/python3.10/dist-packages (from nolds) (1.26.4)\nRequirement already satisfied: future in /usr/local/lib/python3.10/dist-packages (from nolds) (1.0.0)\nRequirement already satisfied: setuptools in /usr/local/lib/python3.10/dist-packages (from nolds) (75.1.0)\nRequirement already satisfied: mkl_fft in /usr/local/lib/python3.10/dist-packages (from numpy<3.0,>1.0->nolds) (1.3.8)\nRequirement already satisfied: mkl_random in /usr/local/lib/python3.10/dist-packages (from numpy<3.0,>1.0->nolds) (1.2.4)\nRequirement already satisfied: mkl_umath in /usr/local/lib/python3.10/dist-packages (from numpy<3.0,>1.0->nolds) (0.1.1)\nRequirement already satisfied: mkl in /usr/local/lib/python3.10/dist-packages (from numpy<3.0,>1.0->nolds) (2025.0.1)\nRequirement already satisfied: tbb4py in /usr/local/lib/python3.10/dist-packages (from numpy<3.0,>1.0->nolds) (2022.0.0)\nRequirement already satisfied: mkl-service in /usr/local/lib/python3.10/dist-packages (from numpy<3.0,>1.0->nolds) (2.4.1)\nRequirement already satisfied: intel-openmp>=2024 in /usr/local/lib/python3.10/dist-packages (from mkl->numpy<3.0,>1.0->nolds) (2024.2.0)\nRequirement already satisfied: tbb==2022.* in /usr/local/lib/python3.10/dist-packages (from mkl->numpy<3.0,>1.0->nolds) (2022.0.0)\nRequirement already satisfied: tcmlib==1.* in /usr/local/lib/python3.10/dist-packages (from tbb==2022.*->mkl->numpy<3.0,>1.0->nolds) (1.2.0)\nRequirement already satisfied: intel-cmplr-lib-rt in /usr/local/lib/python3.10/dist-packages (from mkl_umath->numpy<3.0,>1.0->nolds) (2024.2.0)\nRequirement already satisfied: intel-cmplr-lib-ur==2024.2.0 in /usr/local/lib/python3.10/dist-packages (from intel-openmp>=2024->mkl->numpy<3.0,>1.0->nolds) (2024.2.0)\n",
          "output_type": "stream"
        }
      ],
      "execution_count": null
    },
    {
      "cell_type": "code",
      "source": [
        "sensor3865= pd.read_csv('/kaggle/input/sensor-3865/interpolated_3865.csv', delimiter=',')\n",
        "sensor3865_1= pd.read_csv('/kaggle/input/sensor-3865/dl_value_tag_3865.csv', delimiter=',')\n",
        "sensor3863= pd.read_csv('/kaggle/input/sensor-3863/interpolated_3863.csv', delimiter=',')\n",
        "sensor3863_1= pd.read_csv('/kaggle/input/sensor-3863/dl_value_tag_3863.csv', delimiter=',')\n",
        "sensor3867= pd.read_csv('/kaggle/input/sensor-3867/interpolated_3867.csv', delimiter=',')\n",
        "sensor3867_1= pd.read_csv('/kaggle/input/sensor-3867/dl_value_tag_3867.csv', delimiter=',')"
      ],
      "metadata": {
        "trusted": true,
        "execution": {
          "iopub.status.busy": "2025-02-23T13:23:19.570799Z",
          "iopub.execute_input": "2025-02-23T13:23:19.571239Z",
          "iopub.status.idle": "2025-02-23T13:23:24.114411Z",
          "shell.execute_reply.started": "2025-02-23T13:23:19.571192Z",
          "shell.execute_reply": "2025-02-23T13:23:24.112833Z"
        },
        "id": "MD5yn-wyAqyW"
      },
      "outputs": [],
      "execution_count": null
    },
    {
      "cell_type": "code",
      "source": [
        "sensor3865 = sensor3865[['tag_id', 'time_stamp', 'value']] ##interpolated\n",
        "sensor3865_1 = sensor3865_1[['tag_id', 'time_stamp', 'value']]\n",
        "sensor3863 = sensor3863[['tag_id', 'time_stamp', 'value']] ##interpolated\n",
        "sensor3863_1 = sensor3863_1[['tag_id', 'time_stamp', 'value']]\n",
        "sensor3867 = sensor3867[['tag_id', 'time_stamp', 'value']] ##interpolated\n",
        "sensor3867_1 = sensor3867_1[['tag_id', 'time_stamp', 'value']]"
      ],
      "metadata": {
        "trusted": true,
        "execution": {
          "iopub.status.busy": "2025-02-23T13:23:24.116548Z",
          "iopub.execute_input": "2025-02-23T13:23:24.117102Z",
          "iopub.status.idle": "2025-02-23T13:23:24.214499Z",
          "shell.execute_reply.started": "2025-02-23T13:23:24.116971Z",
          "shell.execute_reply": "2025-02-23T13:23:24.213229Z"
        },
        "id": "X6Xp6bffAqyX"
      },
      "outputs": [],
      "execution_count": null
    },
    {
      "cell_type": "code",
      "source": [
        "# Daftar DataFrame sensor yang ingin dicek\n",
        "sensor_list = [sensor3865, sensor3865_1, sensor3863, sensor3863_1, sensor3867, sensor3867_1]\n",
        "sensor_names = [\"sensor3865\", \"sensor3865_1\", \"sensor3863\", \"sensor3863_1\", \"sensor3867\", \"sensor3867_1\"]\n",
        "\n",
        "# Loop untuk menampilkan info dari setiap sensor\n",
        "for name, df in zip(sensor_names, sensor_list):\n",
        "    print(f\"===== {name} =====\")\n",
        "    print(df.info())  # Menampilkan informasi DataFrame\n",
        "    print(\"\\n\")  # Menambahkan baris kosong agar lebih rapi\n"
      ],
      "metadata": {
        "trusted": true,
        "execution": {
          "iopub.status.busy": "2025-02-23T13:23:24.2162Z",
          "iopub.execute_input": "2025-02-23T13:23:24.216526Z",
          "iopub.status.idle": "2025-02-23T13:23:24.40374Z",
          "shell.execute_reply.started": "2025-02-23T13:23:24.216499Z",
          "shell.execute_reply": "2025-02-23T13:23:24.402573Z"
        },
        "id": "GHfs8NEtAqyX",
        "outputId": "e7766b38-45ec-4339-9778-e16d26d6139c"
      },
      "outputs": [
        {
          "name": "stdout",
          "text": "===== sensor3865 =====\n<class 'pandas.core.frame.DataFrame'>\nRangeIndex: 485291 entries, 0 to 485290\nData columns (total 3 columns):\n #   Column      Non-Null Count   Dtype  \n---  ------      --------------   -----  \n 0   tag_id      485291 non-null  int64  \n 1   time_stamp  485291 non-null  object \n 2   value       485291 non-null  float64\ndtypes: float64(1), int64(1), object(1)\nmemory usage: 11.1+ MB\nNone\n\n\n===== sensor3865_1 =====\n<class 'pandas.core.frame.DataFrame'>\nRangeIndex: 111243 entries, 0 to 111242\nData columns (total 3 columns):\n #   Column      Non-Null Count   Dtype  \n---  ------      --------------   -----  \n 0   tag_id      111243 non-null  int64  \n 1   time_stamp  111243 non-null  object \n 2   value       111243 non-null  float64\ndtypes: float64(1), int64(1), object(1)\nmemory usage: 2.5+ MB\nNone\n\n\n===== sensor3863 =====\n<class 'pandas.core.frame.DataFrame'>\nRangeIndex: 485291 entries, 0 to 485290\nData columns (total 3 columns):\n #   Column      Non-Null Count   Dtype  \n---  ------      --------------   -----  \n 0   tag_id      485291 non-null  int64  \n 1   time_stamp  485291 non-null  object \n 2   value       485291 non-null  float64\ndtypes: float64(1), int64(1), object(1)\nmemory usage: 11.1+ MB\nNone\n\n\n===== sensor3863_1 =====\n<class 'pandas.core.frame.DataFrame'>\nRangeIndex: 111268 entries, 0 to 111267\nData columns (total 3 columns):\n #   Column      Non-Null Count   Dtype  \n---  ------      --------------   -----  \n 0   tag_id      111268 non-null  int64  \n 1   time_stamp  111268 non-null  object \n 2   value       111268 non-null  float64\ndtypes: float64(1), int64(1), object(1)\nmemory usage: 2.5+ MB\nNone\n\n\n===== sensor3867 =====\n<class 'pandas.core.frame.DataFrame'>\nRangeIndex: 485291 entries, 0 to 485290\nData columns (total 3 columns):\n #   Column      Non-Null Count   Dtype  \n---  ------      --------------   -----  \n 0   tag_id      485291 non-null  int64  \n 1   time_stamp  485291 non-null  object \n 2   value       485291 non-null  float64\ndtypes: float64(1), int64(1), object(1)\nmemory usage: 11.1+ MB\nNone\n\n\n===== sensor3867_1 =====\n<class 'pandas.core.frame.DataFrame'>\nRangeIndex: 111254 entries, 0 to 111253\nData columns (total 3 columns):\n #   Column      Non-Null Count   Dtype  \n---  ------      --------------   -----  \n 0   tag_id      111254 non-null  int64  \n 1   time_stamp  111254 non-null  object \n 2   value       111254 non-null  float64\ndtypes: float64(1), int64(1), object(1)\nmemory usage: 2.5+ MB\nNone\n\n\n",
          "output_type": "stream"
        }
      ],
      "execution_count": null
    },
    {
      "cell_type": "markdown",
      "source": [
        "# **Sensor 3865**"
      ],
      "metadata": {
        "id": "ag9yYfFHAqyX"
      }
    },
    {
      "cell_type": "markdown",
      "source": [
        "### Formatting Data"
      ],
      "metadata": {
        "id": "cfPjXmfoAqyY"
      }
    },
    {
      "cell_type": "code",
      "source": [
        "# Pastikan 'time_stamp' dalam format datetime\n",
        "sensor3865['time_stamp'] = pd.to_datetime(sensor3865['time_stamp'])\n",
        "sensor3865 = sensor3865.sort_values(by='time_stamp')\n",
        "sensor3865.info()"
      ],
      "metadata": {
        "trusted": true,
        "execution": {
          "iopub.status.busy": "2025-02-23T13:23:24.404682Z",
          "iopub.execute_input": "2025-02-23T13:23:24.405048Z",
          "iopub.status.idle": "2025-02-23T13:23:24.626595Z",
          "shell.execute_reply.started": "2025-02-23T13:23:24.405018Z",
          "shell.execute_reply": "2025-02-23T13:23:24.62528Z"
        },
        "id": "bs1KZzPTAqyY",
        "outputId": "7342a1b2-697a-42b5-a0c3-a96f8980a4a9"
      },
      "outputs": [
        {
          "name": "stdout",
          "text": "<class 'pandas.core.frame.DataFrame'>\nIndex: 485291 entries, 0 to 485290\nData columns (total 3 columns):\n #   Column      Non-Null Count   Dtype         \n---  ------      --------------   -----         \n 0   tag_id      485291 non-null  int64         \n 1   time_stamp  485291 non-null  datetime64[ns]\n 2   value       485291 non-null  float64       \ndtypes: datetime64[ns](1), float64(1), int64(1)\nmemory usage: 14.8 MB\n",
          "output_type": "stream"
        }
      ],
      "execution_count": null
    },
    {
      "cell_type": "code",
      "source": [
        "# Pastikan 'time_stamp' dalam format datetime\n",
        "sensor3865_1['time_stamp'] = pd.to_datetime(sensor3865_1['time_stamp'])\n",
        "sensor3865_1 = sensor3865_1.sort_values(by='time_stamp')\n",
        "sensor3865_1.info()"
      ],
      "metadata": {
        "trusted": true,
        "execution": {
          "iopub.status.busy": "2025-02-23T13:23:24.627865Z",
          "iopub.execute_input": "2025-02-23T13:23:24.628288Z",
          "iopub.status.idle": "2025-02-23T13:23:24.69704Z",
          "shell.execute_reply.started": "2025-02-23T13:23:24.628248Z",
          "shell.execute_reply": "2025-02-23T13:23:24.695389Z"
        },
        "id": "skSKbv9TAqyY",
        "outputId": "d921bab1-1524-4438-d683-cdd1877fd05e"
      },
      "outputs": [
        {
          "name": "stdout",
          "text": "<class 'pandas.core.frame.DataFrame'>\nIndex: 111243 entries, 110648 to 110643\nData columns (total 3 columns):\n #   Column      Non-Null Count   Dtype         \n---  ------      --------------   -----         \n 0   tag_id      111243 non-null  int64         \n 1   time_stamp  111243 non-null  datetime64[ns]\n 2   value       111243 non-null  float64       \ndtypes: datetime64[ns](1), float64(1), int64(1)\nmemory usage: 3.4 MB\n",
          "output_type": "stream"
        }
      ],
      "execution_count": null
    },
    {
      "cell_type": "markdown",
      "source": [
        "### **Duplikat**"
      ],
      "metadata": {
        "id": "fbTH-odYAqyZ"
      }
    },
    {
      "cell_type": "code",
      "source": [
        "print(f\"Total Duplicates: {sensor3865.duplicated().sum()}\")\n",
        "print(f\"nilai null: {sensor3865.isnull().sum()}\")"
      ],
      "metadata": {
        "trusted": true,
        "execution": {
          "iopub.status.busy": "2025-02-23T13:23:24.698376Z",
          "iopub.execute_input": "2025-02-23T13:23:24.699101Z",
          "iopub.status.idle": "2025-02-23T13:23:24.869527Z",
          "shell.execute_reply.started": "2025-02-23T13:23:24.699067Z",
          "shell.execute_reply": "2025-02-23T13:23:24.868422Z"
        },
        "id": "vGZvhEp-AqyZ",
        "outputId": "3967b89f-86dc-4bd6-b0f2-a7bf643c6c0f"
      },
      "outputs": [
        {
          "name": "stdout",
          "text": "Total Duplicates: 82089\nnilai null: tag_id        0\ntime_stamp    0\nvalue         0\ndtype: int64\n",
          "output_type": "stream"
        }
      ],
      "execution_count": null
    },
    {
      "cell_type": "code",
      "source": [
        "# Filter hanya yang duplikat\n",
        "duplikat = sensor3865[sensor3865.duplicated(keep=False)]\n",
        "print(duplikat)"
      ],
      "metadata": {
        "trusted": true,
        "execution": {
          "iopub.status.busy": "2025-02-23T13:23:24.87411Z",
          "iopub.execute_input": "2025-02-23T13:23:24.874485Z"
        },
        "id": "ohmRvTO_AqyZ"
      },
      "outputs": [],
      "execution_count": null
    },
    {
      "cell_type": "markdown",
      "source": [
        "> Before after drop duplicate"
      ],
      "metadata": {
        "id": "9NbPLT8nAqya"
      }
    },
    {
      "cell_type": "code",
      "source": [
        "# Simpan DataFrame sebelum drop duplicate\n",
        "sensor_before = sensor3865.copy()\n",
        "\n",
        "# Hapus duplikasi berdasarkan 'time_stamp' (ambil yang pertama)\n",
        "sensor3865 = sensor3865.drop_duplicates(subset=['time_stamp'], keep='first')\n",
        "\n",
        "# Simpan DataFrame setelah drop duplicate\n",
        "sensor_after = sensor3865.copy()\n",
        "\n",
        "# Buat subplot untuk Before & After Drop Duplicate\n",
        "fig, axes = plt.subplots(2, 1, figsize=(12, 10), sharex=True)\n",
        "\n",
        "# Plot sebelum drop duplicate\n",
        "axes[0].plot(sensor_before['time_stamp'], sensor_before['value'], linestyle='-', label='Before Drop Duplicate', color='red')\n",
        "axes[0].set_title('Plot Data Sensor - Before Drop Duplicate')\n",
        "axes[0].set_ylabel('Sensor Value')\n",
        "axes[0].legend()\n",
        "axes[0].grid()\n",
        "\n",
        "# Plot sesudah drop duplicate\n",
        "axes[1].plot(sensor_after['time_stamp'], sensor_after['value'], linestyle='-', label='After Drop Duplicate', color='blue')\n",
        "axes[1].set_title('Plot Data Sensor - After Drop Duplicate')\n",
        "axes[1].set_xlabel('Timestamp')\n",
        "axes[1].set_ylabel('Sensor Value')\n",
        "axes[1].legend()\n",
        "axes[1].grid()\n",
        "\n",
        "# Rotasi label x agar lebih terbaca\n",
        "plt.xticks(rotation=45)\n",
        "\n",
        "# Tampilkan plot\n",
        "plt.tight_layout()\n",
        "plt.show()"
      ],
      "metadata": {
        "trusted": true,
        "id": "n-eepNhXAqya"
      },
      "outputs": [],
      "execution_count": null
    },
    {
      "cell_type": "markdown",
      "source": [
        "--------------------------------------------------------------"
      ],
      "metadata": {
        "id": "5gR0jaISAqya"
      }
    },
    {
      "cell_type": "code",
      "source": [
        "print(f\"Total Duplicates: {sensor3865_1.duplicated().sum()}\")\n",
        "print(f\"nilai null: {sensor3865_1.isnull().sum()}\")"
      ],
      "metadata": {
        "trusted": true,
        "id": "eF7LSAp4Aqyb"
      },
      "outputs": [],
      "execution_count": null
    },
    {
      "cell_type": "code",
      "source": [
        "# Filter hanya yang duplikat\n",
        "duplikat = sensor3865_1[sensor3865_1.duplicated(keep=False)]\n",
        "print(duplikat)"
      ],
      "metadata": {
        "trusted": true,
        "id": "0hsIN15fAqyb"
      },
      "outputs": [],
      "execution_count": null
    },
    {
      "cell_type": "code",
      "source": [
        "# Simpan DataFrame sebelum drop duplicate\n",
        "sensor_before = sensor3865_1.copy()\n",
        "\n",
        "# Hapus duplikasi berdasarkan 'time_stamp' (ambil yang pertama)\n",
        "sensor3865_1 = sensor3865_1.drop_duplicates(subset=['time_stamp'], keep='first')\n",
        "\n",
        "# Simpan DataFrame setelah drop duplicate\n",
        "sensor_after1 = sensor3865_1.copy()\n",
        "\n",
        "# Buat subplot untuk Before & After Drop Duplicate\n",
        "fig, axes = plt.subplots(2, 1, figsize=(12, 10), sharex=True)\n",
        "\n",
        "# Plot sebelum drop duplicate\n",
        "axes[0].plot(sensor_before['time_stamp'], sensor_before['value'], linestyle='-', label='Before Drop Duplicate', color='red')\n",
        "axes[0].set_title('Plot Data Sensor - Before Drop Duplicate')\n",
        "axes[0].set_ylabel('Sensor Value')\n",
        "axes[0].legend()\n",
        "axes[0].grid()\n",
        "\n",
        "# Plot sesudah drop duplicate\n",
        "axes[1].plot(sensor_after1['time_stamp'], sensor_after1['value'], linestyle='-', label='After Drop Duplicate', color='blue')\n",
        "axes[1].set_title('Plot Data Sensor - After Drop Duplicate')\n",
        "axes[1].set_xlabel('Timestamp')\n",
        "axes[1].set_ylabel('Sensor Value')\n",
        "axes[1].legend()\n",
        "axes[1].grid()\n",
        "\n",
        "# Rotasi label x agar lebih terbaca\n",
        "plt.xticks(rotation=45)\n",
        "\n",
        "# Tampilkan plot\n",
        "plt.tight_layout()\n",
        "plt.show()"
      ],
      "metadata": {
        "trusted": true,
        "id": "lS6Pl4vwAqyb"
      },
      "outputs": [],
      "execution_count": null
    },
    {
      "cell_type": "markdown",
      "source": [
        "### Merging"
      ],
      "metadata": {
        "id": "kZaR43rgAqyb"
      }
    },
    {
      "cell_type": "code",
      "source": [
        "full3865 = pd.concat([sensor_after,sensor_after1], ignore_index=True)\n",
        "full3865.shape"
      ],
      "metadata": {
        "trusted": true,
        "id": "jcJ3ERzUAqyc"
      },
      "outputs": [],
      "execution_count": null
    },
    {
      "cell_type": "code",
      "source": [
        "# Plot data sensor\n",
        "plt.figure(figsize=(10, 5))\n",
        "plt.plot(full3865['time_stamp'], full3865['value'], linestyle='-', label='Sensor Value')\n",
        "\n",
        "# Format plot\n",
        "plt.xlabel('Timestamp')\n",
        "plt.ylabel('Sensor Value')\n",
        "plt.title('Plot Data Sensor 3865')\n",
        "plt.legend()\n",
        "plt.xticks(rotation=45)  # Rotasi label waktu agar lebih terbaca\n",
        "plt.grid()\n",
        "\n",
        "# Tampilkan plot\n",
        "plt.show()"
      ],
      "metadata": {
        "trusted": true,
        "id": "uYj9WvjaAqyc"
      },
      "outputs": [],
      "execution_count": null
    },
    {
      "cell_type": "code",
      "source": [
        "print(f\"Total Duplicates: {full3865.duplicated().sum()}\")\n",
        "print(f\"nilai null: {full3865.isnull().sum()}\")"
      ],
      "metadata": {
        "trusted": true,
        "id": "TY69r-mWAqyd"
      },
      "outputs": [],
      "execution_count": null
    },
    {
      "cell_type": "markdown",
      "source": [
        "### Outlier"
      ],
      "metadata": {
        "id": "PKJ6lOPFAqyd"
      }
    },
    {
      "cell_type": "code",
      "source": [
        "# Filter data antara 2024-01-01 hingga 2024-12-31\n",
        "full3865 = full3865[\n",
        "    (full3865['time_stamp'] >= '2024-01-01') &\n",
        "    (full3865['time_stamp'] <= '2024-12-31')\n",
        "].reset_index(drop=True)\n",
        "\n",
        "# Filter data dengan nilai 'value' di bawah atau sama dengan 120\n",
        "full3865_cleaned = full3865[full3865['value'] <= 30].reset_index(drop=True)\n",
        "full3865_cleaned.shape\n",
        "\n",
        "# Urutkan berdasarkan timestamp\n",
        "full3865_cleaned = full3865_cleaned.sort_values(by='time_stamp')\n",
        "\n",
        "# Plot data sensor\n",
        "plt.figure(figsize=(10, 5))\n",
        "plt.plot(full3865_cleaned['time_stamp'], full3865_cleaned['value'], linestyle='-', label='Sensor Value')\n",
        "\n",
        "# Format plot\n",
        "plt.xlabel('Timestamp')\n",
        "plt.ylabel('Sensor Value')\n",
        "plt.title('Plot Data Sensor 3863')\n",
        "plt.legend()\n",
        "plt.xticks(rotation=45)  # Rotasi label waktu agar lebih terbaca\n",
        "plt.grid()\n",
        "\n",
        "# Tampilkan plot\n",
        "plt.show()"
      ],
      "metadata": {
        "trusted": true,
        "id": "WExCcey6Aqyd"
      },
      "outputs": [],
      "execution_count": null
    },
    {
      "cell_type": "markdown",
      "source": [
        "### Cek time_stamp hilang"
      ],
      "metadata": {
        "id": "N3m888yFAqye"
      }
    },
    {
      "cell_type": "code",
      "source": [
        "# Buat kolom 'date' yang hanya berisi tanggal (tanpa jam & menit)\n",
        "full3865_cleaned['date'] = full3865_cleaned['time_stamp'].dt.date\n",
        "\n",
        "# Buat rentang tanggal lengkap dari min ke max date untuk mengecek missing dates\n",
        "full_date_range = pd.date_range(start=full3865_cleaned['date'].min(),\n",
        "                                end=full3865_cleaned['date'].max(), freq='D').date  # Gunakan hanya hari\n",
        "\n",
        "# Cari tanggal yang hilang dengan membandingkan dengan rentang lengkap\n",
        "missing_dates = pd.DataFrame({'date': full_date_range[~pd.Series(full_date_range).isin(full3865_cleaned['date'])]})\n",
        "# Menampilkan semua daftar tanggal yang hilang tanpa truncation\n",
        "pd.set_option('display.max_rows', None)  # Mengatur agar semua baris ditampilkan\n",
        "\n",
        "# Menampilkan daftar tanggal yang hilang\n",
        "print(\"Tanggal yang tidak ada dalam dataset (dd-mm-yy):\")\n",
        "print(missing_dates)"
      ],
      "metadata": {
        "trusted": true,
        "id": "gyQ69nALAqye"
      },
      "outputs": [],
      "execution_count": null
    },
    {
      "cell_type": "markdown",
      "source": [
        "# Sensor 3867"
      ],
      "metadata": {
        "id": "_j5f4BlzAqye"
      }
    },
    {
      "cell_type": "markdown",
      "source": [
        "### Formatting Data"
      ],
      "metadata": {
        "id": "ogcs7q1QAqyf"
      }
    },
    {
      "cell_type": "code",
      "source": [
        "# Pastikan 'time_stamp' dalam format datetime\n",
        "sensor3867['time_stamp'] = pd.to_datetime(sensor3867['time_stamp'])\n",
        "sensor3867 = sensor3867.sort_values(by='time_stamp')\n",
        "sensor3867.info()"
      ],
      "metadata": {
        "trusted": true,
        "id": "0JHE92DVAqyf"
      },
      "outputs": [],
      "execution_count": null
    },
    {
      "cell_type": "code",
      "source": [
        "# Pastikan 'time_stamp' dalam format datetime\n",
        "sensor3867_1['time_stamp'] = pd.to_datetime(sensor3867_1['time_stamp'])\n",
        "sensor3867_1 = sensor3867_1.sort_values(by='time_stamp')\n",
        "sensor3867_1.info()"
      ],
      "metadata": {
        "trusted": true,
        "id": "CRJPB86UAqyf"
      },
      "outputs": [],
      "execution_count": null
    },
    {
      "cell_type": "markdown",
      "source": [
        "### Duplikat"
      ],
      "metadata": {
        "id": "v2om2ogzAqyg"
      }
    },
    {
      "cell_type": "code",
      "source": [
        "print(f\"Total Duplicates: {sensor3867.duplicated().sum()}\")\n",
        "print(f\"nilai null: {sensor3867.isnull().sum()}\")"
      ],
      "metadata": {
        "trusted": true,
        "id": "vaAAMoQgAqyg"
      },
      "outputs": [],
      "execution_count": null
    },
    {
      "cell_type": "code",
      "source": [
        "# Filter hanya yang duplikat\n",
        "duplikat = sensor3867[sensor3867.duplicated(keep=False)]\n",
        "print(duplikat)"
      ],
      "metadata": {
        "trusted": true,
        "id": "AnUdQSvpAqyg"
      },
      "outputs": [],
      "execution_count": null
    },
    {
      "cell_type": "code",
      "source": [
        "# Simpan DataFrame sebelum drop duplicate\n",
        "sensor_before = sensor3867.copy()\n",
        "\n",
        "# Hapus duplikasi berdasarkan 'time_stamp' (ambil yang pertama)\n",
        "sensor3867 = sensor3867.drop_duplicates(subset=['time_stamp'], keep='first')\n",
        "\n",
        "# Simpan DataFrame setelah drop duplicate\n",
        "sensor_after2 = sensor3867.copy()\n",
        "\n",
        "# Buat subplot untuk Before & After Drop Duplicate\n",
        "fig, axes = plt.subplots(2, 1, figsize=(12, 10), sharex=True)\n",
        "\n",
        "# Plot sebelum drop duplicate\n",
        "axes[0].plot(sensor_before['time_stamp'], sensor_before['value'], linestyle='-', label='Before Drop Duplicate', color='red')\n",
        "axes[0].set_title('Plot Data Sensor - Before Drop Duplicate')\n",
        "axes[0].set_ylabel('Sensor Value')\n",
        "axes[0].legend()\n",
        "axes[0].grid()\n",
        "\n",
        "# Plot sesudah drop duplicate\n",
        "axes[1].plot(sensor_after2['time_stamp'], sensor_after2['value'], linestyle='-', label='After Drop Duplicate', color='blue')\n",
        "axes[1].set_title('Plot Data Sensor - After Drop Duplicate')\n",
        "axes[1].set_xlabel('Timestamp')\n",
        "axes[1].set_ylabel('Sensor Value')\n",
        "axes[1].legend()\n",
        "axes[1].grid()\n",
        "\n",
        "# Rotasi label x agar lebih terbaca\n",
        "plt.xticks(rotation=45)\n",
        "\n",
        "# Tampilkan plot\n",
        "plt.tight_layout()\n",
        "plt.show()"
      ],
      "metadata": {
        "trusted": true,
        "id": "UNUcyhekAqyg"
      },
      "outputs": [],
      "execution_count": null
    },
    {
      "cell_type": "markdown",
      "source": [
        "--------------------------------------------------------------"
      ],
      "metadata": {
        "id": "tYX4cbuDAqyh"
      }
    },
    {
      "cell_type": "code",
      "source": [
        "print(f\"Total Duplicates: {sensor3867_1.duplicated().sum()}\")\n",
        "print(f\"nilai null: {sensor3867_1.isnull().sum()}\")"
      ],
      "metadata": {
        "trusted": true,
        "id": "QLGe_D0ZAqyh"
      },
      "outputs": [],
      "execution_count": null
    },
    {
      "cell_type": "code",
      "source": [
        "# Filter hanya yang duplikat\n",
        "duplikat = sensor3867_1[sensor3867_1.duplicated(keep=False)]\n",
        "print(duplikat)"
      ],
      "metadata": {
        "trusted": true,
        "id": "o86sGxTpAqyh"
      },
      "outputs": [],
      "execution_count": null
    },
    {
      "cell_type": "code",
      "source": [
        "# Simpan DataFrame sebelum drop duplicate\n",
        "sensor_before = sensor3867.copy()\n",
        "\n",
        "# Hapus duplikasi berdasarkan 'time_stamp' (ambil yang pertama)\n",
        "sensor3867 = sensor3867.drop_duplicates(subset=['time_stamp'], keep='first')\n",
        "\n",
        "# Simpan DataFrame setelah drop duplicate\n",
        "sensor_after3 = sensor3867.copy()\n",
        "\n",
        "# Buat subplot untuk Before & After Drop Duplicate\n",
        "fig, axes = plt.subplots(2, 1, figsize=(12, 10), sharex=True)\n",
        "\n",
        "# Plot sebelum drop duplicate\n",
        "axes[0].plot(sensor_before['time_stamp'], sensor_before['value'], linestyle='-', label='Before Drop Duplicate', color='red')\n",
        "axes[0].set_title('Plot Data Sensor - Before Drop Duplicate')\n",
        "axes[0].set_ylabel('Sensor Value')\n",
        "axes[0].legend()\n",
        "axes[0].grid()\n",
        "\n",
        "# Plot sesudah drop duplicate\n",
        "axes[1].plot(sensor_after3['time_stamp'], sensor_after3['value'], linestyle='-', label='After Drop Duplicate', color='blue')\n",
        "axes[1].set_title('Plot Data Sensor - After Drop Duplicate')\n",
        "axes[1].set_xlabel('Timestamp')\n",
        "axes[1].set_ylabel('Sensor Value')\n",
        "axes[1].legend()\n",
        "axes[1].grid()\n",
        "\n",
        "# Rotasi label x agar lebih terbaca\n",
        "plt.xticks(rotation=45)\n",
        "\n",
        "# Tampilkan plot\n",
        "plt.tight_layout()\n",
        "plt.show()"
      ],
      "metadata": {
        "trusted": true,
        "id": "NJKfyIcQAqyh"
      },
      "outputs": [],
      "execution_count": null
    },
    {
      "cell_type": "markdown",
      "source": [
        "### Merging"
      ],
      "metadata": {
        "id": "t6LVaaQOAqyi"
      }
    },
    {
      "cell_type": "code",
      "source": [
        "full3867 = pd.concat([sensor_after2,sensor_after3], ignore_index=True)\n",
        "full3867.shape"
      ],
      "metadata": {
        "trusted": true,
        "id": "k6odUBFzAqyi"
      },
      "outputs": [],
      "execution_count": null
    },
    {
      "cell_type": "code",
      "source": [
        "# Plot data sensor\n",
        "plt.figure(figsize=(10, 5))\n",
        "plt.plot(full3867['time_stamp'], full3867['value'], linestyle='-', label='Sensor Value')\n",
        "\n",
        "# Format plot\n",
        "plt.xlabel('Timestamp')\n",
        "plt.ylabel('Sensor Value')\n",
        "plt.title('Plot Data Sensor 3865')\n",
        "plt.legend()\n",
        "plt.xticks(rotation=45)  # Rotasi label waktu agar lebih terbaca\n",
        "plt.grid()\n",
        "\n",
        "# Tampilkan plot\n",
        "plt.show()"
      ],
      "metadata": {
        "trusted": true,
        "id": "PiwsYFH4Aqyi"
      },
      "outputs": [],
      "execution_count": null
    },
    {
      "cell_type": "code",
      "source": [
        "print(f\"Total Duplicates: {full3867.duplicated().sum()}\")\n",
        "print(f\"nilai null: {full3867.isnull().sum()}\")"
      ],
      "metadata": {
        "trusted": true,
        "id": "mVaN0F_lAqyj"
      },
      "outputs": [],
      "execution_count": null
    },
    {
      "cell_type": "markdown",
      "source": [
        "### Outlier"
      ],
      "metadata": {
        "id": "x3lHRMJRAqyj"
      }
    },
    {
      "cell_type": "code",
      "source": [
        "# Filter data antara 2024-01-01 hingga 2024-12-31\n",
        "full3867 = full3867[\n",
        "    (full3867['time_stamp'] >= '2024-01-01') &\n",
        "    (full3867['time_stamp'] <= '2024-12-31')\n",
        "].reset_index(drop=True)\n",
        "\n",
        "# Filter data dengan nilai 'value' di bawah atau sama dengan 120\n",
        "full3867_cleaned = full3867[full3867['value'] <= 150].reset_index(drop=True)\n",
        "full3867_cleaned.shape\n",
        "\n",
        "# Urutkan berdasarkan timestamp\n",
        "full3867_cleaned = full3867_cleaned.sort_values(by='time_stamp')\n",
        "\n",
        "# Plot data sensor\n",
        "plt.figure(figsize=(10, 5))\n",
        "plt.plot(full3867_cleaned['time_stamp'], full3867_cleaned['value'], linestyle='-', label='Sensor Value')\n",
        "\n",
        "# Format plot\n",
        "plt.xlabel('Timestamp')\n",
        "plt.ylabel('Sensor Value')\n",
        "plt.title('Plot Data Sensor 3863')\n",
        "plt.legend()\n",
        "plt.xticks(rotation=45)  # Rotasi label waktu agar lebih terbaca\n",
        "plt.grid()\n",
        "\n",
        "# Tampilkan plot\n",
        "plt.show()"
      ],
      "metadata": {
        "trusted": true,
        "id": "1XuZENOWAqyj"
      },
      "outputs": [],
      "execution_count": null
    },
    {
      "cell_type": "markdown",
      "source": [
        "### Cek time_stamp hilang"
      ],
      "metadata": {
        "id": "uuqlREV4Aqyj"
      }
    },
    {
      "cell_type": "code",
      "source": [
        "# Buat kolom 'date' yang hanya berisi tanggal (tanpa jam & menit)\n",
        "full3867_cleaned['date'] = full3867_cleaned['time_stamp'].dt.date\n",
        "\n",
        "# Buat rentang tanggal lengkap dari min ke max date untuk mengecek missing dates\n",
        "full_date_range = pd.date_range(start=full3867_cleaned['date'].min(),\n",
        "                                end=full3867_cleaned['date'].max(), freq='D').date  # Gunakan hanya hari\n",
        "\n",
        "# Cari tanggal yang hilang dengan membandingkan dengan rentang lengkap\n",
        "missing_dates = pd.DataFrame({'date': full_date_range[~pd.Series(full_date_range).isin(full3867_cleaned['date'])]})\n",
        "# Menampilkan semua daftar tanggal yang hilang tanpa truncation\n",
        "pd.set_option('display.max_rows', None)  # Mengatur agar semua baris ditampilkan\n",
        "\n",
        "# Menampilkan daftar tanggal yang hilang\n",
        "print(\"Tanggal yang tidak ada dalam dataset (dd-mm-yy):\")\n",
        "print(missing_dates)"
      ],
      "metadata": {
        "trusted": true,
        "id": "fbqmIQdAAqyj"
      },
      "outputs": [],
      "execution_count": null
    }
  ]
}